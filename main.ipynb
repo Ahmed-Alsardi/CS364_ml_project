{
 "cells": [
  {
   "cell_type": "markdown",
   "source": [
    "# Introduction\n",
    "In this project, a real-life problem will be presented that can use machine learning methods to solve it or to find the closest and most appropriate possible solution"
   ],
   "metadata": {
    "collapsed": false,
    "pycharm": {
     "name": "#%% md\n"
    }
   }
  },
  {
   "cell_type": "markdown",
   "source": [
    "# Describe the problem and the source of data\n",
    "A sample of the data set for diabetic patients was taken from the Frankfurt Hospital. The problem is trying to predict whether the patient, based on the known symptoms, has diabetes or not."
   ],
   "metadata": {
    "collapsed": false,
    "pycharm": {
     "name": "#%% md\n"
    }
   }
  },
  {
   "cell_type": "markdown",
   "source": [
    "# Import needed libraries and setting global variables"
   ],
   "metadata": {
    "collapsed": false,
    "pycharm": {
     "name": "#%% md\n"
    }
   }
  },
  {
   "cell_type": "code",
   "execution_count": null,
   "outputs": [],
   "source": [
    "import pandas as pd\n",
    "import numpy as np\n",
    "import matplotlib.pyplot as plt\n",
    "import seaborn as sns\n",
    "from sklearn.model_selection import train_test_split\n",
    "from sklearn.model_selection import cross_val_score, GridSearchCV\n",
    "from sklearn.metrics import accuracy_score, recall_score, precision_score, plot_confusion_matrix, ConfusionMatrixDisplay\n",
    "from sklearn.neighbors import KNeighborsClassifier\n",
    "from sklearn.tree import DecisionTreeClassifier, plot_tree\n",
    "from sklearn.ensemble import RandomForestClassifier, VotingClassifier\n",
    "from sklearn.naive_bayes import GaussianNB\n",
    "\n",
    "# sns.set_theme(style=\"whitegrid\")\n",
    "plt.style.use(\"seaborn\")\n",
    "random_state = 42"
   ],
   "metadata": {
    "collapsed": false,
    "pycharm": {
     "name": "#%%\n"
    }
   }
  },
  {
   "cell_type": "markdown",
   "source": [
    "# Data Cleaning"
   ],
   "metadata": {
    "collapsed": false,
    "pycharm": {
     "name": "#%% md\n"
    }
   }
  },
  {
   "cell_type": "code",
   "execution_count": null,
   "outputs": [],
   "source": [
    "df = pd.read_csv(\"diabetes.csv\")\n",
    "df.head()"
   ],
   "metadata": {
    "collapsed": false,
    "pycharm": {
     "name": "#%%\n"
    }
   }
  },
  {
   "cell_type": "markdown",
   "source": [
    "## Describe the data statistically and visualize the data"
   ],
   "metadata": {
    "collapsed": false,
    "pycharm": {
     "name": "#%% md\n"
    }
   }
  },
  {
   "cell_type": "code",
   "execution_count": null,
   "outputs": [],
   "source": [
    "df[\"Pregnancies\"].unique()"
   ],
   "metadata": {
    "collapsed": false,
    "pycharm": {
     "name": "#%%\n"
    }
   }
  },
  {
   "cell_type": "code",
   "execution_count": null,
   "outputs": [],
   "source": [
    "df.info()"
   ],
   "metadata": {
    "collapsed": false,
    "pycharm": {
     "name": "#%%\n"
    }
   }
  },
  {
   "cell_type": "markdown",
   "source": [
    "### Check for wrong values"
   ],
   "metadata": {
    "collapsed": false,
    "pycharm": {
     "name": "#%% md\n"
    }
   }
  },
  {
   "cell_type": "code",
   "execution_count": null,
   "outputs": [],
   "source": [
    "df.replace(0,np.NaN).isnull().sum()"
   ],
   "metadata": {
    "collapsed": false,
    "pycharm": {
     "name": "#%%\n"
    }
   }
  },
  {
   "cell_type": "markdown",
   "source": [
    "### Feature Domain\n",
    "- Pregenancies: can have 0 as values\n",
    "- Gloucose: cannot have 0  as values\n",
    "- BloodPressure: cannot have 0  as values\n",
    "- SkinThickness: cannot have 0  as values\n",
    "- Insulin: cannot have 0  as values\n",
    "- BMI: cannot have 0  as values\n",
    "- DiabetesPedigreeFunctionL: cannot have 0  as values\n",
    "- Age: cannot have 0  as values\n",
    "\n",
    "so, we have two solution either delete the feature or replace the wrong value with the mean value.\n",
    "Insulin and SkinThickness have more wrong values, we delete them and replace the wrong value with the mean for other feature."
   ],
   "metadata": {
    "collapsed": false,
    "pycharm": {
     "name": "#%% md\n"
    }
   }
  },
  {
   "cell_type": "code",
   "execution_count": null,
   "outputs": [],
   "source": [
    "df.drop(\"Insulin\", axis=1, inplace=True)\n",
    "df.drop(\"SkinThickness\", axis=1, inplace=True)"
   ],
   "metadata": {
    "collapsed": false,
    "pycharm": {
     "name": "#%%\n"
    }
   }
  },
  {
   "cell_type": "code",
   "execution_count": null,
   "outputs": [],
   "source": [
    "# replace 0 value with None\n",
    "df['Glucose'].replace(0,np.NaN,inplace=True)\n",
    "df['BloodPressure'].replace(0,np.NaN,inplace=True)\n",
    "df['BMI'].replace(0,np.NaN,inplace=True)\n",
    "print(f\"Glucose: {df.Glucose.mean()}\\nBloodPressure: {df.BloodPressure.mean()}\\nBMI: {df.BMI.mean()}\")"
   ],
   "metadata": {
    "collapsed": false,
    "pycharm": {
     "name": "#%%\n"
    }
   }
  },
  {
   "cell_type": "code",
   "execution_count": null,
   "outputs": [],
   "source": [
    "# replace nan with the mean for each feature\n",
    "df['Glucose'].fillna(df['Glucose'].mean(),inplace=True)\n",
    "df['BloodPressure'].fillna(df['BloodPressure'].mean(), inplace = True)\n",
    "df['BMI'].fillna(df['BMI'].median(), inplace = True)\n",
    "print(f\"Glucose: {df.Glucose.mean()}\\nBloodPressure: {df.BloodPressure.mean()}\\nBMI: {df.BMI.mean()}\")"
   ],
   "metadata": {
    "collapsed": false,
    "pycharm": {
     "name": "#%%\n"
    }
   }
  },
  {
   "cell_type": "markdown",
   "source": [
    "### Describing the data\n",
    "- Pregenancies: Pregnancy is the term used to describe the period in which a fetus develops inside a woman's womb or uterus.\n",
    "- Gloucose: Glucose is the main type of sugar in the blood and is the major source of energy for the body's cells.\n",
    "- BloodPressure: Blood pressure is the pressure of circulating blood against the walls of blood vessels.\n",
    "- SkinThickness \n",
    "- Insulin: Insulin is a peptide hormone produced by beta cells of the pancreatic islets; it is considered to be the main anabolic hormone of the body.\n",
    "- BMI: Body mass index is a value derived from the mass and height of a person. The BMI is defined as the body mass divided by the square of the body height\n",
    "- DiabetesPedigreeFunction: a synthesis of the diabetes mellitus history in relatives and the genetic relationship of those relatives to the subject.\n",
    "- Age"
   ],
   "metadata": {
    "collapsed": false,
    "pycharm": {
     "name": "#%% md\n"
    }
   }
  },
  {
   "cell_type": "code",
   "execution_count": null,
   "outputs": [],
   "source": [
    "df.describe()"
   ],
   "metadata": {
    "collapsed": false,
    "pycharm": {
     "name": "#%%\n"
    }
   }
  },
  {
   "cell_type": "code",
   "execution_count": null,
   "outputs": [],
   "source": [
    "# show the number of people having diabete and not having, 0: not have, 1: have diabete\n",
    "sns.countplot(x=df['Outcome'])"
   ],
   "metadata": {
    "collapsed": false,
    "pycharm": {
     "name": "#%%\n"
    }
   }
  },
  {
   "cell_type": "markdown",
   "source": [
    "### Glucose with recpect to outcomes histogram:"
   ],
   "metadata": {
    "collapsed": false,
    "pycharm": {
     "name": "#%% md\n"
    }
   }
  },
  {
   "cell_type": "code",
   "execution_count": null,
   "outputs": [],
   "source": [
    "# Glucose distributtion, and same for the following figures\n",
    "sns.displot(data=df, x=\"Glucose\", col=\"Outcome\")\n",
    "plt.show()"
   ],
   "metadata": {
    "collapsed": false,
    "pycharm": {
     "name": "#%%\n"
    }
   }
  },
  {
   "cell_type": "markdown",
   "source": [
    "### Blood Pressure with recpect to outcomes histogram:"
   ],
   "metadata": {
    "collapsed": false,
    "pycharm": {
     "name": "#%% md\n"
    }
   }
  },
  {
   "cell_type": "code",
   "execution_count": null,
   "outputs": [],
   "source": [
    "sns.displot(data=df, x=\"BloodPressure\", col=\"Outcome\")\n",
    "plt.show()"
   ],
   "metadata": {
    "collapsed": false,
    "pycharm": {
     "name": "#%%\n"
    }
   }
  },
  {
   "cell_type": "markdown",
   "source": [
    "### BMI with recpect to outcomes histogram:"
   ],
   "metadata": {
    "collapsed": false,
    "pycharm": {
     "name": "#%% md\n"
    }
   }
  },
  {
   "cell_type": "code",
   "execution_count": null,
   "outputs": [],
   "source": [
    "sns.displot(data=df, x=\"BMI\", col=\"Outcome\")\n",
    "plt.show()"
   ],
   "metadata": {
    "collapsed": false,
    "pycharm": {
     "name": "#%%\n"
    }
   }
  },
  {
   "cell_type": "markdown",
   "source": [
    "### Diabetes Pedigree Function with recpect to outcomes histogram:"
   ],
   "metadata": {
    "collapsed": false,
    "pycharm": {
     "name": "#%% md\n"
    }
   }
  },
  {
   "cell_type": "code",
   "execution_count": null,
   "outputs": [],
   "source": [
    "sns.displot(data=df, x=\"DiabetesPedigreeFunction\", col=\"Outcome\")\n",
    "plt.show()"
   ],
   "metadata": {
    "collapsed": false,
    "pycharm": {
     "name": "#%%\n"
    }
   }
  },
  {
   "cell_type": "markdown",
   "source": [
    "### Age with recpect to outcomes histogram:"
   ],
   "metadata": {
    "collapsed": false,
    "pycharm": {
     "name": "#%% md\n"
    }
   }
  },
  {
   "cell_type": "code",
   "execution_count": null,
   "outputs": [],
   "source": [
    "sns.displot(data=df, x=\"Age\", col=\"Outcome\")\n",
    "plt.show()"
   ],
   "metadata": {
    "collapsed": false,
    "pycharm": {
     "name": "#%%\n"
    }
   }
  },
  {
   "cell_type": "markdown",
   "source": [
    "### Correlation that gives information about what the most feature that have an effect on the outcome:"
   ],
   "metadata": {
    "collapsed": false,
    "pycharm": {
     "name": "#%% md\n"
    }
   }
  },
  {
   "cell_type": "code",
   "execution_count": null,
   "outputs": [],
   "source": [
    "\n",
    "plt.figure(figsize=(16, 8))\n",
    "sns.heatmap(df.corr(), annot=True, vmin=-1, vmax=1)"
   ],
   "metadata": {
    "collapsed": false,
    "pycharm": {
     "name": "#%%\n"
    }
   }
  },
  {
   "cell_type": "markdown",
   "source": [
    "## Preprocessing the data:"
   ],
   "metadata": {
    "collapsed": false,
    "pycharm": {
     "name": "#%% md\n"
    }
   }
  },
  {
   "cell_type": "code",
   "execution_count": null,
   "outputs": [],
   "source": [
    "# Create matrix of feature and vector of outcome\n",
    "X = df.drop(\"Outcome\", axis=1)\n",
    "y = df[\"Outcome\"]"
   ],
   "metadata": {
    "collapsed": false,
    "pycharm": {
     "name": "#%%\n"
    }
   }
  },
  {
   "cell_type": "code",
   "execution_count": null,
   "outputs": [],
   "source": [
    "# split the data\n",
    "train_X, test_X, train_y, test_y = train_test_split(X, y, test_size=0.3, random_state=random_state)"
   ],
   "metadata": {
    "collapsed": false,
    "pycharm": {
     "name": "#%%\n"
    }
   }
  },
  {
   "cell_type": "markdown",
   "source": [
    "# Models:\n",
    "we create a Dictionary to store the metrics of the models for later use. we will use it to compare the models that we use in this project."
   ],
   "metadata": {
    "collapsed": false,
    "pycharm": {
     "name": "#%% md\n"
    }
   }
  },
  {
   "cell_type": "code",
   "execution_count": null,
   "outputs": [],
   "source": [
    "# we use this varible to store information about models scores\n",
    "models_metrics = {}"
   ],
   "metadata": {
    "collapsed": false,
    "pycharm": {
     "name": "#%%\n"
    }
   }
  },
  {
   "cell_type": "markdown",
   "source": [
    "## Grid Search Explanation:\n",
    "\n",
    "GridSearchCV is a library function that is a member of sklearn’s model_selection package. It helps to loop through predefined hyperparameters and fit your estimator (model) on your training set. So, in the end, you can select the best parameters from the listed hyperparameters.\n",
    "\n",
    "[Small Article explaning grid search](https://towardsdatascience.com/grid-search-for-hyperparameter-tuning-9f63945e8fec)"
   ],
   "metadata": {
    "collapsed": false,
    "pycharm": {
     "name": "#%% md\n"
    }
   }
  },
  {
   "cell_type": "markdown",
   "source": [
    "## K-Nearest Neighbors\n",
    "KNN stands for k-Nearest Neighbours. It is a supervised learning algorithm. This means that we train it under supervision. KNN tries to predict the correct class for the test data by calculating the distance between the test data and all the training points. Then select the K number of points which is closet to the test data."
   ],
   "metadata": {
    "collapsed": false,
    "pycharm": {
     "name": "#%% md\n"
    }
   }
  },
  {
   "cell_type": "code",
   "execution_count": null,
   "outputs": [],
   "source": [
    "# dictionary that hold the parameters and the values we want to test\n",
    "param_dict = {\n",
    "    \"n_neighbors\":[1,3,5,7,9,100,200,300,400,500,600,700,800,900,1000,1100],\n",
    "    \"weights\": [\"uniform\", \"distance\"],\n",
    "}\n",
    "# cv: cross validation, scoring is the metric we use compare between each model\n",
    "knn_gs = GridSearchCV(KNeighborsClassifier(), param_grid=param_dict, cv=5, scoring=\"accuracy\")"
   ],
   "metadata": {
    "collapsed": false,
    "pycharm": {
     "name": "#%%\n"
    }
   }
  },
  {
   "cell_type": "code",
   "execution_count": null,
   "outputs": [],
   "source": [
    "# train the model, and extract the best parameter \n",
    "knn_gs.fit(train_X, train_y)\n",
    "knn_param = knn_gs.best_params_"
   ],
   "metadata": {
    "collapsed": false,
    "pycharm": {
     "name": "#%%\n"
    }
   }
  },
  {
   "cell_type": "code",
   "execution_count": null,
   "outputs": [],
   "source": [
    "# predict the test set and draw the confusion matrix\n",
    "test_predict = knn_gs.predict(test_X)\n",
    "ConfusionMatrixDisplay.from_estimator(knn_gs, test_X, test_y, display_labels=[\"No Diabetes\", \"Diabetes\"])\n",
    "plt.show()"
   ],
   "metadata": {
    "collapsed": false,
    "pycharm": {
     "name": "#%%\n"
    }
   }
  },
  {
   "cell_type": "markdown",
   "source": [
    "### Results of KNN model:"
   ],
   "metadata": {
    "collapsed": false,
    "pycharm": {
     "name": "#%% md\n"
    }
   }
  },
  {
   "cell_type": "code",
   "execution_count": null,
   "outputs": [],
   "source": [
    "# other metric \n",
    "knn_accuracy = accuracy_score(test_y, test_predict)\n",
    "knn_precision  = precision_score(test_y, test_predict)\n",
    "knn_recall  = recall_score(test_y, test_predict)\n",
    "print(f\"Accuracy: {knn_accuracy}\\nPrecision: {knn_precision}\\nRecall: {knn_recall}\")"
   ],
   "metadata": {
    "collapsed": false,
    "pycharm": {
     "name": "#%%\n"
    }
   }
  },
  {
   "cell_type": "code",
   "execution_count": null,
   "outputs": [],
   "source": [
    "# adding the result to compare it later\n",
    "models_metrics[\"KNN\"] = [knn_accuracy, knn_precision, knn_recall]"
   ],
   "metadata": {
    "collapsed": false,
    "pycharm": {
     "name": "#%%\n"
    }
   }
  },
  {
   "cell_type": "markdown",
   "source": [
    "## Naive bayes \n",
    "Naïve Bayes is a simple learning algorithm that utilizes Bayes rule together with a strong assumption that the attributes are conditionally independent. Naive Bayes is a classification algorithm that is suitable for binary and multiclass classification.\n",
    "\n",
    "Naive Bayes is a kind of classifier which uses the Bayes Theorem. It predicts membership probabilities for each class such as the probability that given record or data point belongs to a particular class.  The class with the highest probability is considered as the most likely class. This is also known as Maximum A Posteriori (MAP)."
   ],
   "metadata": {
    "collapsed": false,
    "pycharm": {
     "name": "#%% md\n"
    }
   }
  },
  {
   "cell_type": "markdown",
   "source": [
    "### Gaussian NB:\n",
    "A Gaussian Naive Bayes algorithm is a special type of NB algorithm. It's specifically used when the features have continuous values."
   ],
   "metadata": {
    "collapsed": false,
    "pycharm": {
     "name": "#%% md\n"
    }
   }
  },
  {
   "cell_type": "code",
   "execution_count": null,
   "outputs": [],
   "source": [
    "# we don't find parameter to tune in this model\n",
    "clf_gnb = GaussianNB()\n",
    "clf_gnb.fit(train_X, train_y)"
   ],
   "metadata": {
    "collapsed": false,
    "pycharm": {
     "name": "#%%\n"
    }
   }
  },
  {
   "cell_type": "markdown",
   "source": [
    "### Result of NB:"
   ],
   "metadata": {
    "collapsed": false,
    "pycharm": {
     "name": "#%% md\n"
    }
   }
  },
  {
   "cell_type": "code",
   "execution_count": null,
   "outputs": [],
   "source": [
    "# predict the test set, and print the result\n",
    "gnb_prediction = clf_gnb.predict(test_X)\n",
    "gnb_accuracy = accuracy_score(test_y, gnb_prediction)\n",
    "gnb_precision = precision_score(test_y, gnb_prediction)\n",
    "gnb_recall = recall_score(test_y, gnb_prediction)\n",
    "print(f\"Accuracy: {gnb_accuracy}\\nPrecision: {gnb_precision}\\nRecall: {gnb_recall}\")"
   ],
   "metadata": {
    "collapsed": false,
    "pycharm": {
     "name": "#%%\n"
    }
   }
  },
  {
   "cell_type": "code",
   "execution_count": null,
   "outputs": [],
   "source": [
    "# Save the result\n",
    "models_metrics[\"NB\"] = [gnb_accuracy, gnb_precision, gnb_recall]"
   ],
   "metadata": {
    "collapsed": false,
    "pycharm": {
     "name": "#%%\n"
    }
   }
  },
  {
   "cell_type": "markdown",
   "source": [
    "## Decision Tree\n",
    "Decision Trees are a type of Supervised Machine Learning (that is you explain what the input is and what the corresponding output is in the training data) where the data is continuously split according to a certain parameter. The tree can be explained by two entities, namely decision nodes and leaves.\n",
    "\n",
    "each internal node represents a test on a feature, each leaf node represents a class label"
   ],
   "metadata": {
    "collapsed": false,
    "pycharm": {
     "name": "#%% md\n"
    }
   }
  },
  {
   "cell_type": "markdown",
   "source": [
    "#### CCP\n",
    "We use Cost-Complixity Path from the start to find the best tree"
   ],
   "metadata": {
    "collapsed": false,
    "pycharm": {
     "name": "#%% md\n"
    }
   }
  },
  {
   "cell_type": "code",
   "execution_count": null,
   "outputs": [],
   "source": [
    "# get the list of alphas \n",
    "clf_dt = DecisionTreeClassifier(random_state=random_state)\n",
    "ccp_alphas = clf_dt.cost_complexity_pruning_path(train_X, train_y)[\"ccp_alphas\"] # list of possible alphas\n",
    "ccp_alphas"
   ],
   "metadata": {
    "collapsed": false,
    "pycharm": {
     "name": "#%%\n"
    }
   }
  },
  {
   "cell_type": "code",
   "execution_count": null,
   "outputs": [],
   "source": [
    "# iterate over the list of alphas, \n",
    "# create the decision tree with the corresponded alpha and train the model with cross validation\n",
    "# and append the alpha value with the score accuracy to alpha list\n",
    "alphas_list = []\n",
    "for alpha in ccp_alphas:\n",
    "    clf_dt = DecisionTreeClassifier(random_state=random_state, ccp_alpha=alpha)\n",
    "    scores = cross_val_score(clf_dt, train_X, train_y, scoring=\"accuracy\", cv=5)\n",
    "    alphas_list.append([alpha, np.mean(scores)])\n",
    "\n",
    "# create dataframe of alpha\n",
    "alphas_df = pd.DataFrame(alphas_list, columns=[\"Alpha\", \"Mean\"])\n",
    "alphas_df.sort_values(\"Mean\", ascending=False).head()"
   ],
   "metadata": {
    "collapsed": false,
    "pycharm": {
     "name": "#%%\n"
    }
   }
  },
  {
   "cell_type": "code",
   "execution_count": null,
   "outputs": [],
   "source": [
    "# extract the best alpha that have higher score from the list\n",
    "best_alpha = float(alphas_df.sort_values(\"Mean\", ascending=False).head(1)[\"Alpha\"])\n",
    "best_alpha"
   ],
   "metadata": {
    "collapsed": false,
    "pycharm": {
     "name": "#%%\n"
    }
   }
  },
  {
   "cell_type": "code",
   "execution_count": null,
   "outputs": [],
   "source": [
    "# create the decision tree with the alpha \n",
    "clf_dt = DecisionTreeClassifier(random_state=random_state, ccp_alpha=best_alpha)\n",
    "clf_dt.fit(train_X, train_y)"
   ],
   "metadata": {
    "collapsed": false,
    "pycharm": {
     "name": "#%%\n"
    }
   }
  },
  {
   "cell_type": "markdown",
   "source": [
    "### The tree:"
   ],
   "metadata": {
    "collapsed": false,
    "pycharm": {
     "name": "#%% md\n"
    }
   }
  },
  {
   "cell_type": "code",
   "execution_count": null,
   "outputs": [],
   "source": [
    "# draw the tree\n",
    "plt.figure(figsize=(18, 12))\n",
    "plot_tree(clf_dt, feature_names=X.columns, class_names=[\"No Diabetes\", \"Diabetes\"], filled=True)\n",
    "plt.show()"
   ],
   "metadata": {
    "collapsed": false,
    "pycharm": {
     "name": "#%%\n"
    }
   }
  },
  {
   "cell_type": "markdown",
   "source": [
    "### Confusion matrix:"
   ],
   "metadata": {
    "collapsed": false,
    "pycharm": {
     "name": "#%% md\n"
    }
   }
  },
  {
   "cell_type": "code",
   "execution_count": null,
   "outputs": [],
   "source": [
    "# drawing the confusion matrix\n",
    "ConfusionMatrixDisplay.from_estimator(clf_dt, test_X, test_y, display_labels=[\"No Diabetes\", \"Diabetes\"])\n",
    "plt.show()"
   ],
   "metadata": {
    "collapsed": false,
    "pycharm": {
     "name": "#%%\n"
    }
   }
  },
  {
   "cell_type": "markdown",
   "source": [
    "### results of DT:"
   ],
   "metadata": {
    "collapsed": false,
    "pycharm": {
     "name": "#%% md\n"
    }
   }
  },
  {
   "cell_type": "code",
   "execution_count": null,
   "outputs": [],
   "source": [
    "# showing other metrix\n",
    "dt_prediction = clf_dt.predict(test_X)\n",
    "dt_accuracy = accuracy_score(test_y, dt_prediction)\n",
    "dt_precision = precision_score(test_y, dt_prediction)\n",
    "dt_recall = recall_score(test_y, dt_prediction)\n",
    "print(f\"Accuracy: {dt_accuracy}\\nPrecision: {dt_precision}\\nRecall: {dt_recall}\")"
   ],
   "metadata": {
    "collapsed": false,
    "pycharm": {
     "name": "#%%\n"
    }
   }
  },
  {
   "cell_type": "code",
   "execution_count": null,
   "outputs": [],
   "source": [
    "# adding the model result to compare with other model\n",
    "models_metrics[\"DT\"] = [dt_accuracy, dt_precision, dt_recall]"
   ],
   "metadata": {
    "collapsed": false,
    "pycharm": {
     "name": "#%%\n"
    }
   }
  },
  {
   "cell_type": "markdown",
   "source": [
    "## Random Forest\n",
    "Random forest is a Supervised Machine Learning Algorithm that is used widely in Classification and Regression problems. It builds decision trees on different samples and takes their majority vote for classification and average in case of regression.\n",
    "\n",
    "#### How random Forest works ?\n",
    "It is depend on two stages the first one is the bootstraping and the second one is aggregating\n",
    "\n",
    "Bootstrap + Aggregating = Bagging.\n",
    "\n",
    "Bootstraping is the process of instance selection and feature selection.\n",
    "    Aggregating is the process of taking the majority in discrete classes  or the avrage on continuous classes"
   ],
   "metadata": {
    "collapsed": false,
    "pycharm": {
     "name": "#%% md\n"
    }
   }
  },
  {
   "cell_type": "code",
   "execution_count": null,
   "outputs": [],
   "source": [
    "# dictionary that hold the hyperparameter that we want to test\n",
    "# n_estimators: the number of tree\n",
    "# criterion: the method to compute the information gain\n",
    "# max_feature: the number of feature in every tree\n",
    "param_dict = {\n",
    "    \"n_estimators\":[50,100,200,400,800],\n",
    "    \"criterion\": [\"gini\", \"entropy\"],\n",
    "    \"max_features\": [\"sqrt\", \"log2\", 2, 5]\n",
    "}\n",
    "rf_gs = GridSearchCV(RandomForestClassifier(), param_grid=param_dict, cv=5, scoring=\"accuracy\")"
   ],
   "metadata": {
    "collapsed": false,
    "pycharm": {
     "name": "#%%\n"
    }
   }
  },
  {
   "cell_type": "code",
   "execution_count": null,
   "outputs": [],
   "source": [
    "# train the model\n",
    "rf_gs.fit(train_X, train_y)\n",
    "rf_param = rf_gs.best_params_"
   ],
   "metadata": {
    "collapsed": false,
    "pycharm": {
     "name": "#%%\n"
    }
   }
  },
  {
   "cell_type": "markdown",
   "source": [
    "### Confusion matrix:"
   ],
   "metadata": {
    "collapsed": false,
    "pycharm": {
     "name": "#%% md\n"
    }
   }
  },
  {
   "cell_type": "code",
   "execution_count": null,
   "outputs": [],
   "source": [
    "# predict the test set\n",
    "test_predict = rf_gs.predict(test_X)\n",
    "ConfusionMatrixDisplay.from_estimator(rf_gs, test_X, test_y, display_labels=[\"No Diabetes\", \"Diabetes\"])\n",
    "plt.show()"
   ],
   "metadata": {
    "collapsed": false,
    "pycharm": {
     "name": "#%%\n"
    }
   }
  },
  {
   "cell_type": "markdown",
   "source": [
    "### The result of RF:"
   ],
   "metadata": {
    "collapsed": false,
    "pycharm": {
     "name": "#%% md\n"
    }
   }
  },
  {
   "cell_type": "code",
   "execution_count": null,
   "outputs": [],
   "source": [
    "# other metrics\n",
    "rf_accuracy = accuracy_score(test_y, test_predict)\n",
    "rf_precision  = precision_score(test_y, test_predict)\n",
    "rf_recall  = recall_score(test_y, test_predict)\n",
    "print(f\"Accuracy: {rf_accuracy}\\nPrecision: {rf_precision}\\nRecall: {rf_recall}\")"
   ],
   "metadata": {
    "collapsed": false,
    "pycharm": {
     "name": "#%%\n"
    }
   }
  },
  {
   "cell_type": "code",
   "execution_count": null,
   "outputs": [],
   "source": [
    "# Adding model result\n",
    "models_metrics[\"RF\"] = [rf_accuracy, rf_precision, rf_recall]"
   ],
   "metadata": {
    "collapsed": false,
    "pycharm": {
     "name": "#%%\n"
    }
   }
  },
  {
   "cell_type": "markdown",
   "source": [
    "## Voting Models\n",
    "in this step we will compare the models that we have been used by compine them in one model.\n",
    "\n",
    "In hard voting (also known as majority voting), every individual classifier votes for a class, and the majority wins.\n",
    "\n",
    "In soft voting, every individual classifier provides a probability value that a specific data point belongs to a particular target class. The predictions are weighted by the classifier's importance and summed up. Then the target label with the greatest sum of weighted probabilities wins the vote."
   ],
   "metadata": {
    "collapsed": false,
    "pycharm": {
     "name": "#%% md\n"
    }
   }
  },
  {
   "cell_type": "code",
   "execution_count": null,
   "outputs": [],
   "source": [
    "# create the models for voting ensemble with the best parameter we found\n",
    "estimators = [(\"knn\", KNeighborsClassifier(n_neighbors=knn_param[\"n_neighbors\"])), \n",
    "              (\"nb\", GaussianNB()),\n",
    "              (\"dt\", DecisionTreeClassifier(random_state=random_state, ccp_alpha=best_alpha)), \n",
    "              (\"rf\", RandomForestClassifier(random_state=random_state,\n",
    "                                            max_features=rf_param[\"max_features\"], \n",
    "                                            criterion=rf_param[\"criterion\"], \n",
    "                                            n_estimators=rf_param[\"n_estimators\"]))]\n",
    "weights = [models_metrics[\"KNN\"][0], models_metrics[\"NB\"][0], models_metrics[\"DT\"][0], models_metrics[\"RF\"][0] ]"
   ],
   "metadata": {
    "collapsed": false,
    "pycharm": {
     "name": "#%%\n"
    }
   }
  },
  {
   "cell_type": "code",
   "execution_count": null,
   "outputs": [],
   "source": [
    "param_dict = {\n",
    "    \"voting\": [\"hard\", \"soft\"],\n",
    "    \"weights\": [None, weights]\n",
    "}\n",
    "voting_gs = GridSearchCV(VotingClassifier(estimators=estimators), \n",
    "                         param_grid=param_dict,\n",
    "                         cv=5)\n",
    "voting_gs.fit(train_X, train_y)"
   ],
   "metadata": {
    "collapsed": false,
    "pycharm": {
     "name": "#%%\n"
    }
   }
  },
  {
   "cell_type": "markdown",
   "source": [
    "### the results of Voting Model:"
   ],
   "metadata": {
    "collapsed": false,
    "pycharm": {
     "name": "#%% md\n"
    }
   }
  },
  {
   "cell_type": "code",
   "execution_count": null,
   "outputs": [],
   "source": [
    "test_prediction = voting_gs.predict(test_X)\n",
    "voting_accuracy = accuracy_score(test_y, test_prediction)\n",
    "voting_precision = precision_score(test_y, test_prediction)\n",
    "voting_recall = recall_score(test_y, test_prediction)\n",
    "print(f\"Accuracy: {voting_accuracy}\\nPrecision: {voting_precision}\\nRecall: {voting_recall}\")\n",
    "models_metrics[\"VOTING\"] = [voting_accuracy, voting_precision, voting_recall]"
   ],
   "metadata": {
    "collapsed": false,
    "pycharm": {
     "name": "#%%\n"
    }
   }
  },
  {
   "cell_type": "markdown",
   "source": [
    "## Compare the models:\n",
    "in this stage we will compare the results of the models we have been built and we will visualise the comparison process and display them in diagrams and tables"
   ],
   "metadata": {
    "collapsed": false,
    "pycharm": {
     "name": "#%% md\n"
    }
   }
  },
  {
   "cell_type": "code",
   "execution_count": null,
   "outputs": [],
   "source": [
    "# create a dataframe from models results\n",
    "metrics_df = pd.DataFrame(models_metrics.values(), \n",
    "                          columns=[\"Accuracy\", \"Percision\", \"Recall\"], \n",
    "                          index=models_metrics.keys())\n",
    "metrics_df"
   ],
   "metadata": {
    "collapsed": false,
    "pycharm": {
     "name": "#%%\n"
    }
   }
  },
  {
   "cell_type": "code",
   "execution_count": null,
   "outputs": [],
   "source": [
    "# create figure comparing result of different models\n",
    "fig, axes = plt.subplots(1, 3, figsize=(18, 6))\n",
    "metrics_df[\"Accuracy\"].plot(kind=\"bar\", ax=axes[0], rot=0)\n",
    "axes[0].set_title(\"Accuracy\")\n",
    "metrics_df[\"Percision\"].plot(kind=\"bar\", ax=axes[1], rot=0)\n",
    "axes[1].set_title(\"Percision\")\n",
    "metrics_df[\"Recall\"].plot(kind=\"bar\", ax=axes[2], rot=0)\n",
    "axes[2].set_title(\"Recall\")"
   ],
   "metadata": {
    "collapsed": false,
    "pycharm": {
     "name": "#%%\n"
    }
   }
  },
  {
   "cell_type": "markdown",
   "source": [
    "# Conclusion\n",
    "In the end, we found that choosing the optimal model depends on previous experience and expertise. The accuracy of the models varies according to the type of data set, some of them depend on the number of data and some of them are sensitive to noise data. Diversity of models helps to avoid some errors that may lead to lower accuracy."
   ],
   "metadata": {
    "collapsed": false,
    "pycharm": {
     "name": "#%% md\n"
    }
   }
  },
  {
   "cell_type": "markdown",
   "source": [
    "Faisal S. Aldarees  440012582<br>\n",
    "Abdulaziz M. Alotaibi 440014077<br>\n",
    "Ahmad O. Ahmad  440028238<br>"
   ],
   "metadata": {
    "collapsed": false,
    "pycharm": {
     "name": "#%% md\n"
    }
   }
  },
  {
   "cell_type": "markdown",
   "metadata": {},
   "source": [
    "### Confusion matrix:"
   ]
  },
  {
   "cell_type": "code",
   "execution_count": 216,
   "metadata": {},
   "outputs": [
    {
     "data": {
      "image/png": "[encoded data removed]",
      "text/plain": [
       "<Figure size 576x396 with 2 Axes>"
      ]
     },
     "metadata": {},
     "output_type": "display_data"
    }
   ],
   "source": [
    "# predict the test set\n",
    "test_predict = rf_gs.predict(test_X)\n",
    "ConfusionMatrixDisplay.from_estimator(rf_gs, test_X, test_y, display_labels=[\"No Diabetes\", \"Diabetes\"])\n",
    "plt.show()"
   ]
  },
  {
   "cell_type": "markdown",
   "metadata": {},
   "source": [
    "### The result of RF:"
   ]
  },
  {
   "cell_type": "code",
   "execution_count": 217,
   "metadata": {},
   "outputs": [
    {
     "name": "stdout",
     "output_type": "stream",
     "text": [
      "Accuracy: 0.9683333333333334\n",
      "Precision: 0.9403669724770642\n",
      "Recall: 0.9715639810426541\n"
     ]
    }
   ],
   "source": [
    "# other metrics\n",
    "rf_accuracy = accuracy_score(test_y, test_predict)\n",
    "rf_precision  = precision_score(test_y, test_predict)\n",
    "rf_recall  = recall_score(test_y, test_predict)\n",
    "print(f\"Accuracy: {rf_accuracy}\\nPrecision: {rf_precision}\\nRecall: {rf_recall}\")"
   ]
  },
  {
   "cell_type": "code",
   "execution_count": 218,
   "metadata": {},
   "outputs": [],
   "source": [
    "# Adding model result\n",
    "models_metrics[\"RF\"] = [rf_accuracy, rf_precision, rf_recall]"
   ]
  },
  {
   "cell_type": "markdown",
   "metadata": {
    "pycharm": {
     "name": "#%% md\n"
    }
   },
   "source": [
    "## Voting Models\n",
    "in this step we will compare the models that we have been used by compine them in one model.\n",
    "\n",
    "In hard voting (also known as majority voting), every individual classifier votes for a class, and the majority wins.\n",
    "\n",
    "In soft voting, every individual classifier provides a probability value that a specific data point belongs to a particular target class. The predictions are weighted by the classifier's importance and summed up. Then the target label with the greatest sum of weighted probabilities wins the vote."
   ]
  },
  {
   "cell_type": "code",
   "execution_count": 219,
   "metadata": {},
   "outputs": [],
   "source": [
    "# create the models for voting ensemble with the best parameter we found\n",
    "estimators = [(\"knn\", KNeighborsClassifier(n_neighbors=knn_param[\"n_neighbors\"])), \n",
    "              (\"nb\", GaussianNB()),\n",
    "              (\"dt\", DecisionTreeClassifier(random_state=random_state, ccp_alpha=best_alpha)), \n",
    "              (\"rf\", RandomForestClassifier(random_state=random_state,\n",
    "                                            max_features=rf_param[\"max_features\"], \n",
    "                                            criterion=rf_param[\"criterion\"], \n",
    "                                            n_estimators=rf_param[\"n_estimators\"]))]\n",
    "weights = [models_metrics[\"KNN\"][0], models_metrics[\"NB\"][0], models_metrics[\"DT\"][0], models_metrics[\"RF\"][0] ]"
   ]
  },
  {
   "cell_type": "code",
   "execution_count": 220,
   "metadata": {},
   "outputs": [
    {
     "data": {
      "text/plain": [
       "GridSearchCV(cv=5,\n",
       "             estimator=VotingClassifier(estimators=[('knn',\n",
       "                                                     KNeighborsClassifier(n_neighbors=100)),\n",
       "                                                    ('nb', GaussianNB()),\n",
       "                                                    ('dt',\n",
       "                                                     DecisionTreeClassifier(random_state=42)),\n",
       "                                                    ('rf',\n",
       "                                                     RandomForestClassifier(criterion='entropy',\n",
       "                                                                            max_features='sqrt',\n",
       "                                                                            n_estimators=800,\n",
       "                                                                            random_state=42))]),\n",
       "             param_grid={'voting': ['hard', 'soft'],\n",
       "                         'weights': [None,\n",
       "                                     [0.9766666666666667, 0.79, 0.96,\n",
       "                                      0.9683333333333334]]})"
      ]
     },
     "execution_count": 220,
     "metadata": {},
     "output_type": "execute_result"
    }
   ],
   "source": [
    "param_dict = {\n",
    "    \"voting\": [\"hard\", \"soft\"],\n",
    "    \"weights\": [None, weights]\n",
    "}\n",
    "voting_gs = GridSearchCV(VotingClassifier(estimators=estimators), \n",
    "                         param_grid=param_dict,\n",
    "                         cv=5)\n",
    "voting_gs.fit(train_X, train_y)"
   ]
  },
  {
   "cell_type": "markdown",
   "metadata": {},
   "source": [
    "### the results of Voting Model:"
   ]
  },
  {
   "cell_type": "code",
   "execution_count": 221,
   "metadata": {
    "collapsed": false,
    "pycharm": {
     "name": "#%%\n"
    }
   },
   "outputs": [
    {
     "name": "stdout",
     "output_type": "stream",
     "text": [
      "Accuracy: 0.9666666666666667\n",
      "Precision: 0.95260663507109\n",
      "Recall: 0.95260663507109\n"
     ]
    }
   ],
   "source": [
    "test_prediction = voting_gs.predict(test_X)\n",
    "voting_accuracy = accuracy_score(test_y, test_prediction)\n",
    "voting_precision = precision_score(test_y, test_prediction)\n",
    "voting_recall = recall_score(test_y, test_prediction)\n",
    "print(f\"Accuracy: {voting_accuracy}\\nPrecision: {voting_precision}\\nRecall: {voting_recall}\")\n",
    "models_metrics[\"VOTING\"] = [voting_accuracy, voting_precision, voting_recall]"
   ]
  },
  {
   "cell_type": "markdown",
   "metadata": {
    "collapsed": false,
    "pycharm": {
     "name": "#%% md\n"
    }
   },
   "source": [
    "## Compare the models:\n",
    "in this stage we will compare the results of the models we have been built and we will visualise the comparison process and display them in diagrams and tables"
   ]
  },
  {
   "cell_type": "code",
   "execution_count": 222,
   "metadata": {
    "collapsed": false,
    "pycharm": {
     "name": "#%%\n"
    }
   },
   "outputs": [
    {
     "data": {
      "text/html": [
       "<div>\n",
       "<style scoped>\n",
       "    .dataframe tbody tr th:only-of-type {\n",
       "        vertical-align: middle;\n",
       "    }\n",
       "\n",
       "    .dataframe tbody tr th {\n",
       "        vertical-align: top;\n",
       "    }\n",
       "\n",
       "    .dataframe thead th {\n",
       "        text-align: right;\n",
       "    }\n",
       "</style>\n",
       "<table border=\"1\" class=\"dataframe\">\n",
       "  <thead>\n",
       "    <tr style=\"text-align: right;\">\n",
       "      <th></th>\n",
       "      <th>Accuracy</th>\n",
       "      <th>Percision</th>\n",
       "      <th>Recall</th>\n",
       "    </tr>\n",
       "  </thead>\n",
       "  <tbody>\n",
       "    <tr>\n",
       "      <th>KNN</th>\n",
       "      <td>0.976667</td>\n",
       "      <td>0.990050</td>\n",
       "      <td>0.943128</td>\n",
       "    </tr>\n",
       "    <tr>\n",
       "      <th>NB</th>\n",
       "      <td>0.790000</td>\n",
       "      <td>0.720207</td>\n",
       "      <td>0.658768</td>\n",
       "    </tr>\n",
       "    <tr>\n",
       "      <th>DT</th>\n",
       "      <td>0.960000</td>\n",
       "      <td>0.919283</td>\n",
       "      <td>0.971564</td>\n",
       "    </tr>\n",
       "    <tr>\n",
       "      <th>RF</th>\n",
       "      <td>0.968333</td>\n",
       "      <td>0.940367</td>\n",
       "      <td>0.971564</td>\n",
       "    </tr>\n",
       "    <tr>\n",
       "      <th>VOTING</th>\n",
       "      <td>0.966667</td>\n",
       "      <td>0.952607</td>\n",
       "      <td>0.952607</td>\n",
       "    </tr>\n",
       "  </tbody>\n",
       "</table>\n",
       "</div>"
      ],
      "text/plain": [
       "        Accuracy  Percision    Recall\n",
       "KNN     0.976667   0.990050  0.943128\n",
       "NB      0.790000   0.720207  0.658768\n",
       "DT      0.960000   0.919283  0.971564\n",
       "RF      0.968333   0.940367  0.971564\n",
       "VOTING  0.966667   0.952607  0.952607"
      ]
     },
     "execution_count": 222,
     "metadata": {},
     "output_type": "execute_result"
    }
   ],
   "source": [
    "# create a dataframe from models results\n",
    "metrics_df = pd.DataFrame(models_metrics.values(), \n",
    "                          columns=[\"Accuracy\", \"Percision\", \"Recall\"], \n",
    "                          index=models_metrics.keys())\n",
    "metrics_df"
   ]
  },
  {
   "cell_type": "code",
   "execution_count": 223,
   "metadata": {
    "collapsed": false,
    "pycharm": {
     "name": "#%%\n"
    }
   },
   "outputs": [
    {
     "data": {
      "text/plain": [
       "Text(0.5, 1.0, 'Recall')"
      ]
     },
     "execution_count": 223,
     "metadata": {},
     "output_type": "execute_result"
    },
    {
     "data": {
      "image/png": "[encoded data removed]",
      "text/plain": [
       "<Figure size 1296x432 with 3 Axes>"
      ]
     },
     "metadata": {},
     "output_type": "display_data"
    }
   ],
   "source": [
    "# create figure comparing result of different models\n",
    "fig, axes = plt.subplots(1, 3, figsize=(18, 6))\n",
    "metrics_df[\"Accuracy\"].plot(kind=\"bar\", ax=axes[0], rot=0)\n",
    "axes[0].set_title(\"Accuracy\")\n",
    "metrics_df[\"Percision\"].plot(kind=\"bar\", ax=axes[1], rot=0)\n",
    "axes[1].set_title(\"Percision\")\n",
    "metrics_df[\"Recall\"].plot(kind=\"bar\", ax=axes[2], rot=0)\n",
    "axes[2].set_title(\"Recall\")"
   ]
  },
  {
   "cell_type": "markdown",
   "metadata": {
    "collapsed": false,
    "pycharm": {
     "name": "#%% md\n"
    }
   },
   "source": [
    "# Conclusion\n",
    "In the end, we found that choosing the optimal model depends on previous experience and expertise. The accuracy of the models varies according to the type of data set, some of them depend on the number of data and some of them are sensitive to noise data. Diversity of models helps to avoid some errors that may lead to lower accuracy."
   ]
  },
  {
   "cell_type": "markdown",
   "metadata": {},
   "source": [
    "Faisal S. Aldarees  440012582<br>\n",
    "Abdulaziz M. Alotaibi 440014077<br>\n",
    "Ahmad O. Ahmad  440028238<br>"
   ]
  }
 ],
 "metadata": {
  "kernelspec": {
   "display_name": "Python 3 (ipykernel)",
   "language": "python",
   "name": "python3"
  },
  "language_info": {
   "codemirror_mode": {
    "name": "ipython",
    "version": 3
   },
   "file_extension": ".py",
   "mimetype": "text/x-python",
   "name": "python",
   "nbconvert_exporter": "python",
   "pygments_lexer": "ipython3",
   "version": "3.9.4"
  }
 },
 "nbformat": 4,
 "nbformat_minor": 1
}